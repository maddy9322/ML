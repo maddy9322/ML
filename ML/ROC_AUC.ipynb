{
 "cells": [
  {
   "cell_type": "code",
   "execution_count": 1,
   "id": "ffad78e2",
   "metadata": {},
   "outputs": [],
   "source": [
    "import numpy as np\n",
    "import pandas as pd\n",
    "\n",
    "import matplotlib.pyplot as plt\n",
    "import seaborn as sns \n",
    "\n",
    "import warnings \n",
    "warnings.filterwarnings(\"ignore\")"
   ]
  },
  {
   "cell_type": "code",
   "execution_count": 2,
   "id": "27dca059",
   "metadata": {},
   "outputs": [
    {
     "data": {
      "text/html": [
       "<div>\n",
       "<style scoped>\n",
       "    .dataframe tbody tr th:only-of-type {\n",
       "        vertical-align: middle;\n",
       "    }\n",
       "\n",
       "    .dataframe tbody tr th {\n",
       "        vertical-align: top;\n",
       "    }\n",
       "\n",
       "    .dataframe thead th {\n",
       "        text-align: right;\n",
       "    }\n",
       "</style>\n",
       "<table border=\"1\" class=\"dataframe\">\n",
       "  <thead>\n",
       "    <tr style=\"text-align: right;\">\n",
       "      <th></th>\n",
       "      <th>pregnant</th>\n",
       "      <th>glocose</th>\n",
       "      <th>bp</th>\n",
       "      <th>skin</th>\n",
       "      <th>insulin</th>\n",
       "      <th>bmi</th>\n",
       "      <th>predigree</th>\n",
       "      <th>age</th>\n",
       "      <th>target</th>\n",
       "    </tr>\n",
       "  </thead>\n",
       "  <tbody>\n",
       "    <tr>\n",
       "      <th>0</th>\n",
       "      <td>6</td>\n",
       "      <td>148</td>\n",
       "      <td>72</td>\n",
       "      <td>35</td>\n",
       "      <td>0</td>\n",
       "      <td>33.6</td>\n",
       "      <td>0.627</td>\n",
       "      <td>50</td>\n",
       "      <td>1</td>\n",
       "    </tr>\n",
       "    <tr>\n",
       "      <th>1</th>\n",
       "      <td>1</td>\n",
       "      <td>85</td>\n",
       "      <td>66</td>\n",
       "      <td>29</td>\n",
       "      <td>0</td>\n",
       "      <td>26.6</td>\n",
       "      <td>0.351</td>\n",
       "      <td>31</td>\n",
       "      <td>0</td>\n",
       "    </tr>\n",
       "  </tbody>\n",
       "</table>\n",
       "</div>"
      ],
      "text/plain": [
       "   pregnant  glocose  bp  skin  insulin   bmi  predigree  age  target\n",
       "0         6      148  72    35        0  33.6      0.627   50       1\n",
       "1         1       85  66    29        0  26.6      0.351   31       0"
      ]
     },
     "execution_count": 2,
     "metadata": {},
     "output_type": "execute_result"
    }
   ],
   "source": [
    "df=pd.read_csv(r\"C:\\Users\\Itvedant CR3-08\\Documents\\DILIP\\MLmain\\ML_Files\\diabeties.csv\")\n",
    "df.head(2)"
   ]
  },
  {
   "cell_type": "code",
   "execution_count": 3,
   "id": "bd26806a",
   "metadata": {},
   "outputs": [
    {
     "name": "stdout",
     "output_type": "stream",
     "text": [
      "<class 'pandas.core.frame.DataFrame'>\n",
      "RangeIndex: 768 entries, 0 to 767\n",
      "Data columns (total 9 columns):\n",
      " #   Column     Non-Null Count  Dtype  \n",
      "---  ------     --------------  -----  \n",
      " 0   pregnant   768 non-null    int64  \n",
      " 1   glocose    768 non-null    int64  \n",
      " 2   bp         768 non-null    int64  \n",
      " 3   skin       768 non-null    int64  \n",
      " 4   insulin    768 non-null    int64  \n",
      " 5   bmi        768 non-null    float64\n",
      " 6   predigree  768 non-null    float64\n",
      " 7   age        768 non-null    int64  \n",
      " 8   target     768 non-null    int64  \n",
      "dtypes: float64(2), int64(7)\n",
      "memory usage: 54.1 KB\n"
     ]
    }
   ],
   "source": [
    "df.info()"
   ]
  },
  {
   "cell_type": "code",
   "execution_count": 6,
   "id": "e931791c",
   "metadata": {},
   "outputs": [
    {
     "data": {
      "text/plain": [
       "0    500\n",
       "1    268\n",
       "Name: target, dtype: int64"
      ]
     },
     "execution_count": 6,
     "metadata": {},
     "output_type": "execute_result"
    }
   ],
   "source": [
    "df[\"target\"].value_counts()"
   ]
  },
  {
   "cell_type": "code",
   "execution_count": 7,
   "id": "581f70e6",
   "metadata": {},
   "outputs": [],
   "source": [
    "features=df.iloc[:,:-1]\n",
    "target=df.iloc[:,-1]"
   ]
  },
  {
   "cell_type": "code",
   "execution_count": 12,
   "id": "428d646c",
   "metadata": {},
   "outputs": [],
   "source": [
    "from sklearn.model_selection import train_test_split\n",
    "xtrain,xtest,ytrain,ytest= train_test_split(features,target,random_state=1,test_size=0.3,stratify=target)\n",
    "\n"
   ]
  },
  {
   "cell_type": "code",
   "execution_count": 13,
   "id": "387a4f34",
   "metadata": {},
   "outputs": [],
   "source": [
    "from sklearn.linear_model import LogisticRegression\n",
    "lr= LogisticRegression()\n",
    "lr.fit(xtrain,ytrain)\n",
    "ypred=lr.predict(xtest)"
   ]
  },
  {
   "cell_type": "code",
   "execution_count": 14,
   "id": "ecea441a",
   "metadata": {},
   "outputs": [
    {
     "name": "stdout",
     "output_type": "stream",
     "text": [
      "AS:0.7662337662337663\n",
      " CM:\n",
      "[[132  18]\n",
      " [ 36  45]]\n",
      " CR:              precision    recall  f1-score   support\n",
      "\n",
      "           0       0.79      0.88      0.83       150\n",
      "           1       0.71      0.56      0.63        81\n",
      "\n",
      "    accuracy                           0.77       231\n",
      "   macro avg       0.75      0.72      0.73       231\n",
      "weighted avg       0.76      0.77      0.76       231\n",
      "\n"
     ]
    }
   ],
   "source": [
    "from sklearn.metrics import accuracy_score,confusion_matrix,classification_report\n",
    "\n",
    "ac= accuracy_score(ytest,ypred)\n",
    "cm=confusion_matrix(ytest,ypred)\n",
    "cr=classification_report(ytest,ypred)\n",
    "\n",
    "print (f\"AS:{ac}\\n CM:\\n{cm}\\n CR:{cr}\")"
   ]
  },
  {
   "cell_type": "code",
   "execution_count": 15,
   "id": "f2c95991",
   "metadata": {},
   "outputs": [
    {
     "name": "stdout",
     "output_type": "stream",
     "text": [
      "TS:0.7821229050279329\n",
      "TE:0.7662337662337663 \n"
     ]
    }
   ],
   "source": [
    "train=lr.score(xtrain,ytrain)\n",
    "test=lr.score(xtest,ytest)\n",
    "print(f\"TS:{train}\\nTE:{test} \")"
   ]
  },
  {
   "cell_type": "code",
   "execution_count": 16,
   "id": "ebaf907e",
   "metadata": {},
   "outputs": [
    {
     "name": "stdout",
     "output_type": "stream",
     "text": [
      "Actual Values [1 0 0 0 0 1 0 0 1 0 1 1 0 1 0 0 0 0 1 0 1 0 1 1 1]\n",
      "Predicted Values [0 1 0 0 0 0 1 0 0 0 0 1 0 1 0 0 0 0 0 0 0 0 0 1 1]\n"
     ]
    }
   ],
   "source": [
    "print(f\"Actual Values {ytest[:25].values}\")\n",
    "print(f\"Predicted Values {ypred[:25]}\")\n"
   ]
  },
  {
   "cell_type": "code",
   "execution_count": 17,
   "id": "2219d7e1",
   "metadata": {},
   "outputs": [
    {
     "data": {
      "text/plain": [
       "array([[0.79786465, 0.20213535],\n",
       "       [0.20098394, 0.79901606],\n",
       "       [0.67719063, 0.32280937],\n",
       "       [0.96066319, 0.03933681],\n",
       "       [0.76565645, 0.23434355],\n",
       "       [0.76214363, 0.23785637],\n",
       "       [0.05928372, 0.94071628],\n",
       "       [0.57735512, 0.42264488],\n",
       "       [0.6739218 , 0.3260782 ],\n",
       "       [0.88372872, 0.11627128],\n",
       "       [0.78348254, 0.21651746],\n",
       "       [0.35942517, 0.64057483],\n",
       "       [0.94333658, 0.05666342],\n",
       "       [0.44258169, 0.55741831],\n",
       "       [0.97096657, 0.02903343],\n",
       "       [0.91463827, 0.08536173],\n",
       "       [0.8693241 , 0.1306759 ],\n",
       "       [0.87574985, 0.12425015],\n",
       "       [0.60502637, 0.39497363],\n",
       "       [0.94181169, 0.05818831],\n",
       "       [0.57879609, 0.42120391],\n",
       "       [0.7571788 , 0.2428212 ],\n",
       "       [0.64420738, 0.35579262],\n",
       "       [0.15074894, 0.84925106],\n",
       "       [0.28503375, 0.71496625],\n",
       "       [0.21837502, 0.78162498],\n",
       "       [0.59273589, 0.40726411],\n",
       "       [0.70476458, 0.29523542],\n",
       "       [0.42445324, 0.57554676],\n",
       "       [0.30768383, 0.69231617],\n",
       "       [0.93756061, 0.06243939],\n",
       "       [0.47984481, 0.52015519],\n",
       "       [0.40361369, 0.59638631],\n",
       "       [0.89832645, 0.10167355],\n",
       "       [0.89918783, 0.10081217],\n",
       "       [0.98655614, 0.01344386],\n",
       "       [0.35459364, 0.64540636],\n",
       "       [0.96150564, 0.03849436],\n",
       "       [0.77726334, 0.22273666],\n",
       "       [0.71554783, 0.28445217],\n",
       "       [0.89471291, 0.10528709],\n",
       "       [0.89871287, 0.10128713],\n",
       "       [0.97058077, 0.02941923],\n",
       "       [0.25996219, 0.74003781],\n",
       "       [0.57078125, 0.42921875],\n",
       "       [0.82476385, 0.17523615],\n",
       "       [0.24462261, 0.75537739],\n",
       "       [0.49778945, 0.50221055],\n",
       "       [0.18927459, 0.81072541],\n",
       "       [0.43570653, 0.56429347],\n",
       "       [0.12967181, 0.87032819],\n",
       "       [0.83973799, 0.16026201],\n",
       "       [0.43303344, 0.56696656],\n",
       "       [0.7707417 , 0.2292583 ],\n",
       "       [0.84977534, 0.15022466],\n",
       "       [0.23703126, 0.76296874],\n",
       "       [0.8676624 , 0.1323376 ],\n",
       "       [0.9162604 , 0.0837396 ],\n",
       "       [0.7820351 , 0.2179649 ],\n",
       "       [0.7894347 , 0.2105653 ],\n",
       "       [0.20886966, 0.79113034],\n",
       "       [0.32367219, 0.67632781],\n",
       "       [0.69996293, 0.30003707],\n",
       "       [0.30165012, 0.69834988],\n",
       "       [0.66636658, 0.33363342],\n",
       "       [0.73533089, 0.26466911],\n",
       "       [0.85865216, 0.14134784],\n",
       "       [0.35243707, 0.64756293],\n",
       "       [0.89398677, 0.10601323],\n",
       "       [0.122428  , 0.877572  ],\n",
       "       [0.67292579, 0.32707421],\n",
       "       [0.99644898, 0.00355102],\n",
       "       [0.70760268, 0.29239732],\n",
       "       [0.47177575, 0.52822425],\n",
       "       [0.77757828, 0.22242172],\n",
       "       [0.88031959, 0.11968041],\n",
       "       [0.80235966, 0.19764034],\n",
       "       [0.95490299, 0.04509701],\n",
       "       [0.9743213 , 0.0256787 ],\n",
       "       [0.52531209, 0.47468791],\n",
       "       [0.97159744, 0.02840256],\n",
       "       [0.89590253, 0.10409747],\n",
       "       [0.87519877, 0.12480123],\n",
       "       [0.73551683, 0.26448317],\n",
       "       [0.70359827, 0.29640173],\n",
       "       [0.86219996, 0.13780004],\n",
       "       [0.27668556, 0.72331444],\n",
       "       [0.78415843, 0.21584157],\n",
       "       [0.06859558, 0.93140442],\n",
       "       [0.73196427, 0.26803573],\n",
       "       [0.57838582, 0.42161418],\n",
       "       [0.92841813, 0.07158187],\n",
       "       [0.87482244, 0.12517756],\n",
       "       [0.59128008, 0.40871992],\n",
       "       [0.49513326, 0.50486674],\n",
       "       [0.94968913, 0.05031087],\n",
       "       [0.75675064, 0.24324936],\n",
       "       [0.59649235, 0.40350765],\n",
       "       [0.64776143, 0.35223857],\n",
       "       [0.61691518, 0.38308482],\n",
       "       [0.29383661, 0.70616339],\n",
       "       [0.77396992, 0.22603008],\n",
       "       [0.71062723, 0.28937277],\n",
       "       [0.61235095, 0.38764905],\n",
       "       [0.94912537, 0.05087463],\n",
       "       [0.84965432, 0.15034568],\n",
       "       [0.9087597 , 0.0912403 ],\n",
       "       [0.5978876 , 0.4021124 ],\n",
       "       [0.95660226, 0.04339774],\n",
       "       [0.52190237, 0.47809763],\n",
       "       [0.89520993, 0.10479007],\n",
       "       [0.75918548, 0.24081452],\n",
       "       [0.8884525 , 0.1115475 ],\n",
       "       [0.87044327, 0.12955673],\n",
       "       [0.92419885, 0.07580115],\n",
       "       [0.82311352, 0.17688648],\n",
       "       [0.4567811 , 0.5432189 ],\n",
       "       [0.33098871, 0.66901129],\n",
       "       [0.99009955, 0.00990045],\n",
       "       [0.54704881, 0.45295119],\n",
       "       [0.05657822, 0.94342178],\n",
       "       [0.36654222, 0.63345778],\n",
       "       [0.68020936, 0.31979064],\n",
       "       [0.54738827, 0.45261173],\n",
       "       [0.2232211 , 0.7767789 ],\n",
       "       [0.95651805, 0.04348195],\n",
       "       [0.98293793, 0.01706207],\n",
       "       [0.89217606, 0.10782394],\n",
       "       [0.90163665, 0.09836335],\n",
       "       [0.7332832 , 0.2667168 ],\n",
       "       [0.485474  , 0.514526  ],\n",
       "       [0.89411008, 0.10588992],\n",
       "       [0.93074531, 0.06925469],\n",
       "       [0.40745011, 0.59254989],\n",
       "       [0.14464851, 0.85535149],\n",
       "       [0.04126552, 0.95873448],\n",
       "       [0.8043542 , 0.1956458 ],\n",
       "       [0.82447717, 0.17552283],\n",
       "       [0.86100181, 0.13899819],\n",
       "       [0.81515783, 0.18484217],\n",
       "       [0.48603464, 0.51396536],\n",
       "       [0.89378122, 0.10621878],\n",
       "       [0.92371421, 0.07628579],\n",
       "       [0.96158387, 0.03841613],\n",
       "       [0.82312047, 0.17687953],\n",
       "       [0.25294771, 0.74705229],\n",
       "       [0.78535067, 0.21464933],\n",
       "       [0.95305608, 0.04694392],\n",
       "       [0.87518797, 0.12481203],\n",
       "       [0.39959179, 0.60040821],\n",
       "       [0.27911634, 0.72088366],\n",
       "       [0.37060262, 0.62939738],\n",
       "       [0.79480967, 0.20519033],\n",
       "       [0.97023607, 0.02976393],\n",
       "       [0.87519743, 0.12480257],\n",
       "       [0.72830225, 0.27169775],\n",
       "       [0.49679608, 0.50320392],\n",
       "       [0.66648115, 0.33351885],\n",
       "       [0.96244087, 0.03755913],\n",
       "       [0.92413377, 0.07586623],\n",
       "       [0.92283044, 0.07716956],\n",
       "       [0.94045603, 0.05954397],\n",
       "       [0.57916586, 0.42083414],\n",
       "       [0.17246074, 0.82753926],\n",
       "       [0.57391754, 0.42608246],\n",
       "       [0.9765527 , 0.0234473 ],\n",
       "       [0.532582  , 0.467418  ],\n",
       "       [0.39578325, 0.60421675],\n",
       "       [0.9342183 , 0.0657817 ],\n",
       "       [0.79479135, 0.20520865],\n",
       "       [0.93089644, 0.06910356],\n",
       "       [0.83983039, 0.16016961],\n",
       "       [0.90794902, 0.09205098],\n",
       "       [0.58049807, 0.41950193],\n",
       "       [0.75335971, 0.24664029],\n",
       "       [0.99142424, 0.00857576],\n",
       "       [0.42585479, 0.57414521],\n",
       "       [0.85549619, 0.14450381],\n",
       "       [0.36382999, 0.63617001],\n",
       "       [0.9618374 , 0.0381626 ],\n",
       "       [0.85717803, 0.14282197],\n",
       "       [0.95706903, 0.04293097],\n",
       "       [0.61896977, 0.38103023],\n",
       "       [0.11021976, 0.88978024],\n",
       "       [0.90987707, 0.09012293],\n",
       "       [0.85878089, 0.14121911],\n",
       "       [0.44687969, 0.55312031],\n",
       "       [0.0728342 , 0.9271658 ],\n",
       "       [0.93363626, 0.06636374],\n",
       "       [0.97365987, 0.02634013],\n",
       "       [0.86074423, 0.13925577],\n",
       "       [0.35870537, 0.64129463],\n",
       "       [0.95521084, 0.04478916],\n",
       "       [0.90767936, 0.09232064],\n",
       "       [0.90439329, 0.09560671],\n",
       "       [0.83259651, 0.16740349],\n",
       "       [0.91135289, 0.08864711],\n",
       "       [0.54075646, 0.45924354],\n",
       "       [0.69329342, 0.30670658],\n",
       "       [0.78475042, 0.21524958],\n",
       "       [0.93245033, 0.06754967],\n",
       "       [0.6718451 , 0.3281549 ],\n",
       "       [0.29411939, 0.70588061],\n",
       "       [0.74884667, 0.25115333],\n",
       "       [0.6280207 , 0.3719793 ],\n",
       "       [0.26380764, 0.73619236],\n",
       "       [0.92692551, 0.07307449],\n",
       "       [0.68449396, 0.31550604],\n",
       "       [0.89947612, 0.10052388],\n",
       "       [0.96990812, 0.03009188],\n",
       "       [0.07885601, 0.92114399],\n",
       "       [0.26858416, 0.73141584],\n",
       "       [0.9291989 , 0.0708011 ],\n",
       "       [0.77358491, 0.22641509],\n",
       "       [0.72001473, 0.27998527],\n",
       "       [0.02121542, 0.97878458],\n",
       "       [0.81275607, 0.18724393],\n",
       "       [0.06267749, 0.93732251],\n",
       "       [0.60902213, 0.39097787],\n",
       "       [0.99800804, 0.00199196],\n",
       "       [0.81958204, 0.18041796],\n",
       "       [0.78915308, 0.21084692],\n",
       "       [0.60539783, 0.39460217],\n",
       "       [0.60084092, 0.39915908],\n",
       "       [0.72031365, 0.27968635],\n",
       "       [0.28943185, 0.71056815],\n",
       "       [0.25493891, 0.74506109],\n",
       "       [0.5600847 , 0.4399153 ],\n",
       "       [0.18168655, 0.81831345],\n",
       "       [0.31330002, 0.68669998],\n",
       "       [0.64802522, 0.35197478]])"
      ]
     },
     "execution_count": 17,
     "metadata": {},
     "output_type": "execute_result"
    }
   ],
   "source": [
    "lr.predict_proba(xtest)"
   ]
  },
  {
   "cell_type": "code",
   "execution_count": 18,
   "id": "137047b2",
   "metadata": {},
   "outputs": [],
   "source": [
    "ypredproba=lr.predict_proba(xtest)[:,1]"
   ]
  },
  {
   "cell_type": "code",
   "execution_count": 24,
   "id": "86c24af0",
   "metadata": {},
   "outputs": [],
   "source": [
    "from sklearn.preprocessing import binarize\n",
    "ypred=binarize([ypredproba],threshold=0.3)[0]"
   ]
  },
  {
   "cell_type": "code",
   "execution_count": 25,
   "id": "70d14cc5",
   "metadata": {},
   "outputs": [
    {
     "name": "stdout",
     "output_type": "stream",
     "text": [
      "Actual Values [1 0 0 0 0 1 0 0 1 0 1 1 0 1 0 0 0 0 1 0 1 0 1 1 1]\n",
      "Predicted Values [0 1 1 0 0 0 1 1 1 0 0 1 0 1 0 0 0 0 1 0 1 0 1 1 1]\n"
     ]
    }
   ],
   "source": [
    "print(f\"Actual Values {ytest[:25].values}\")\n",
    "print(f\"Predicted Values {ypred[:25].astype(int)}\")\n"
   ]
  },
  {
   "cell_type": "code",
   "execution_count": 26,
   "id": "dcfa7f7b",
   "metadata": {},
   "outputs": [
    {
     "name": "stdout",
     "output_type": "stream",
     "text": [
      "AS:0.7445887445887446\n",
      " CM:\n",
      "[[110  40]\n",
      " [ 19  62]]\n",
      " CR:              precision    recall  f1-score   support\n",
      "\n",
      "           0       0.85      0.73      0.79       150\n",
      "           1       0.61      0.77      0.68        81\n",
      "\n",
      "    accuracy                           0.74       231\n",
      "   macro avg       0.73      0.75      0.73       231\n",
      "weighted avg       0.77      0.74      0.75       231\n",
      "\n",
      "TS:0.7821229050279329\n",
      "TE:0.7662337662337663 \n"
     ]
    }
   ],
   "source": [
    "from sklearn.metrics import accuracy_score,confusion_matrix,classification_report\n",
    "\n",
    "ac= accuracy_score(ytest,ypred)\n",
    "cm=confusion_matrix(ytest,ypred)\n",
    "cr=classification_report(ytest,ypred)\n",
    "\n",
    "print (f\"AS:{ac}\\n CM:\\n{cm}\\n CR:{cr}\")\n",
    "\n",
    "train=lr.score(xtrain,ytrain)\n",
    "test=lr.score(xtest,ytest)\n",
    "print(f\"TS:{train}\\nTE:{test} \")"
   ]
  },
  {
   "cell_type": "code",
   "execution_count": 28,
   "id": "167658d5",
   "metadata": {},
   "outputs": [
    {
     "data": {
      "text/plain": [
       "[<matplotlib.lines.Line2D at 0x22420d4a9e0>]"
      ]
     },
     "execution_count": 28,
     "metadata": {},
     "output_type": "execute_result"
    },
    {
     "data": {
      "image/png": "[encoded data removed]",
      "text/plain": [
       "<Figure size 640x480 with 1 Axes>"
      ]
     },
     "metadata": {},
     "output_type": "display_data"
    }
   ],
   "source": [
    "from sklearn.metrics import roc_curve\n",
    "fpr,tpr,thres=roc_curve(ytest,ypredproba)\n",
    "plt.plot(fpr,tpr)"
   ]
  },
  {
   "cell_type": "markdown",
   "id": "6c480813",
   "metadata": {},
   "source": [
    "4 matches\t\t\t\t\tP(W)\t\tP(L)\t\t\todds ration\n",
    "w\tw\tw\tw\t\t\t\t1\t\t\t0\t\t\t1/0=infinity\n",
    "w\tw\tL\tL\t\t\t\t0.5\t\t\t0.5\t\t\t1\n",
    "L\tL\tL\tL\t\t\t\t0\t\t\t1\t\t\t0/1=0\n",
    "\n",
    "0---------1------infi\n",
    "log(0) ---log(1)----log(infi)\n",
    "-infi \t\t1\tinfi\n",
    "\n",
    "\n",
    "\n",
    "y=log p/ 1-p\n",
    "\n",
    "mx+c= log p/1-p\n",
    "e(mx+c) =p/1-P\n",
    "\n",
    "\n",
    "if the missing data less than 3% then use drop na and delete the row\n",
    "if the missing data is in range 3to40% use fill na to fill missing values also use simple includer\n",
    "if missing vale greater than 40% then drop that column\n",
    "\n",
    "cost function  used in linear regression is mse r mse ect but in logistic regression we have\n",
    "binary cross entropy or log loss which is given by \n",
    "\n",
    "y== actual   Y_ = predicted value\n",
    "then\n",
    "-y log(y_) = (1-y) log (1-y_)\n",
    "\n",
    "ROC ALC curve\n",
    "receiver operator characteristics this plot true + plate verses false + rate\n",
    "where \n",
    "specificity = tn/tn+fp \n",
    "to compute points in roc curve we need to evaluate logistic regression model many times with different \n",
    "threshold as roc is nothing but the probability curve so make this process we used AUC area under curve \n",
    "sensitivity and specificity are inversely proportional to one anther if we decreas threshold we get more ive value \n",
    "there increase AUc and degreasing specificity.\n",
    "\n"
   ]
  },
  {
   "cell_type": "code",
   "execution_count": null,
   "id": "33eb0a11",
   "metadata": {},
   "outputs": [],
   "source": []
  }
 ],
 "metadata": {
  "kernelspec": {
   "display_name": "Python 3 (ipykernel)",
   "language": "python",
   "name": "python3"
  },
  "language_info": {
   "codemirror_mode": {
    "name": "ipython",
    "version": 3
   },
   "file_extension": ".py",
   "mimetype": "text/x-python",
   "name": "python",
   "nbconvert_exporter": "python",
   "pygments_lexer": "ipython3",
   "version": "3.10.9"
  }
 },
 "nbformat": 4,
 "nbformat_minor": 5
}
