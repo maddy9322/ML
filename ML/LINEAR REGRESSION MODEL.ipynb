{
 "cells": [
  {
   "cell_type": "markdown",
   "id": "d4f5b5b0",
   "metadata": {},
   "source": [
    "Regression is the supervised learning \n",
    "where the target variable is continuous in nature it is process of stabition relationship between 2 and more veriables to check for\n",
    "the association between 2 variables views terms like co-varianceand co variation\n",
    "co-veriance helps to understand if there is any relationship between 2 variables the value or co variance is between - infinity to infinity \n",
    "co variance does not tell how weak or strong the relationship between the \n",
    "there for instead of covariance used correlation which tells how weak  or  strong the relationship is\n",
    "the value of relationship is 0 then it has no correlations and if the value is close to minus 1 +1 is strong correlation\n",
    "the linear reggaetón is the process of establishing the relation  between depended and independent variable \n",
    "the relationship linear in nature the goal is to create the best fit line using the formula \n",
    "Y=MX+C\n",
    "\n",
    "M= {(x-x_)(y-y_)\n",
    "----------------------------x\n",
    "x_={(X-X_)\n",
    "x=3 y_=3.6\n",
    "\n",
    "x \ty\t x-X_ \t      y-Y_\t\t(x-x_) (y-y_)\t(x-X_)2\n",
    "1\t3\t  -2\t\t\t-2.6\t\t\n",
    "2\t4\t  -1\t\t\t-1.6\n",
    "3\t2\t  0\t\t\t0.6\n",
    "4\t4\t  1\t\t\t1.6\n",
    "5\t5\t   2\t\t\t2.6\n",
    "M= 0.4 \n",
    "y_ = mx_+c\n",
    "c=y_-mx_ = 2.4\n",
    "\n",
    "x \ty\t ypred\typred-y\n",
    "1\t3\t 2.8\t\t-0.2\n",
    "2\t4\t  3.2\t\t-0.8\n",
    "3\t2\t 3.6\t\t 1.6\n",
    "4\t4\t  4\t\t 0\n",
    "5\t5\t  4.4\t\t-0.6\n",
    "\n",
    "MAE = ypred-y / N == 0.64\n",
    "MSE = (ypred-y)2 /n ==  0.72\n",
    "RMSE  = root of MSE == 0.84\n",
    "RMSLE = \n",
    "R2 =  {(yp-y_)2/ {(y-y)2\n",
    "ypred-y_)2  \t  y-y_)2\n",
    "0.64 \t\t   0.36\n",
    "0.16 \t\n",
    "0\n",
    "0.16\n",
    "\n",
    "Correlation value is given is R and the value correlation is between -1 to 1 so we take and hence the value lies o0 and 1 \n",
    "therefore we can say R2 is difference between predicted and estimated value from the actual value \n",
    "the value of R2 closer to 1 says very good module while closer to 0 is a bad module \n",
    "\n",
    "\n"
   ]
  },
  {
   "cell_type": "code",
   "execution_count": 1,
   "id": "624a0552",
   "metadata": {},
   "outputs": [],
   "source": [
    "import numpy as np\n",
    "import pandas as pd\n",
    "\n",
    "import matplotlib.pyplot as plt\n",
    "import seaborn as sns \n",
    "\n",
    "import warnings \n",
    "warnings.filterwarnings(\"ignore\")"
   ]
  },
  {
   "cell_type": "code",
   "execution_count": 2,
   "id": "8cecd704",
   "metadata": {},
   "outputs": [
    {
     "data": {
      "text/html": [
       "<div>\n",
       "<style scoped>\n",
       "    .dataframe tbody tr th:only-of-type {\n",
       "        vertical-align: middle;\n",
       "    }\n",
       "\n",
       "    .dataframe tbody tr th {\n",
       "        vertical-align: top;\n",
       "    }\n",
       "\n",
       "    .dataframe thead th {\n",
       "        text-align: right;\n",
       "    }\n",
       "</style>\n",
       "<table border=\"1\" class=\"dataframe\">\n",
       "  <thead>\n",
       "    <tr style=\"text-align: right;\">\n",
       "      <th></th>\n",
       "      <th>X</th>\n",
       "      <th>Y</th>\n",
       "    </tr>\n",
       "  </thead>\n",
       "  <tbody>\n",
       "    <tr>\n",
       "      <th>0</th>\n",
       "      <td>1</td>\n",
       "      <td>3</td>\n",
       "    </tr>\n",
       "    <tr>\n",
       "      <th>1</th>\n",
       "      <td>2</td>\n",
       "      <td>4</td>\n",
       "    </tr>\n",
       "    <tr>\n",
       "      <th>2</th>\n",
       "      <td>3</td>\n",
       "      <td>2</td>\n",
       "    </tr>\n",
       "    <tr>\n",
       "      <th>3</th>\n",
       "      <td>4</td>\n",
       "      <td>4</td>\n",
       "    </tr>\n",
       "    <tr>\n",
       "      <th>4</th>\n",
       "      <td>5</td>\n",
       "      <td>5</td>\n",
       "    </tr>\n",
       "  </tbody>\n",
       "</table>\n",
       "</div>"
      ],
      "text/plain": [
       "   X  Y\n",
       "0  1  3\n",
       "1  2  4\n",
       "2  3  2\n",
       "3  4  4\n",
       "4  5  5"
      ]
     },
     "execution_count": 2,
     "metadata": {},
     "output_type": "execute_result"
    }
   ],
   "source": [
    "x=[1,2,3,4,5]\n",
    "y=[3,4,2,4,5]\n",
    "\n",
    "di={\"X\":x,\"Y\":y}\n",
    "df=pd.DataFrame(di)\n",
    "df"
   ]
  },
  {
   "cell_type": "code",
   "execution_count": 3,
   "id": "3e759cfa",
   "metadata": {},
   "outputs": [
    {
     "name": "stdout",
     "output_type": "stream",
     "text": [
      "3.0\n",
      "3.6\n"
     ]
    }
   ],
   "source": [
    "xmean=df[\"X\"].mean()\n",
    "ymean=df[\"Y\"].mean()\n",
    "print(xmean)\n",
    "print(ymean)"
   ]
  },
  {
   "cell_type": "code",
   "execution_count": 4,
   "id": "2d7286fe",
   "metadata": {},
   "outputs": [],
   "source": [
    "# m= sum((df[\"X\"].xmean)*(df[\"Y\"].ymean))/sum((df[\"X\"].xmean)**2)\n",
    "m=0.4"
   ]
  },
  {
   "cell_type": "code",
   "execution_count": 5,
   "id": "7561281e",
   "metadata": {},
   "outputs": [
    {
     "data": {
      "text/plain": [
       "2.4"
      ]
     },
     "execution_count": 5,
     "metadata": {},
     "output_type": "execute_result"
    }
   ],
   "source": [
    "c=ymean-m*xmean\n",
    "c"
   ]
  },
  {
   "cell_type": "code",
   "execution_count": 6,
   "id": "1e1f47eb",
   "metadata": {},
   "outputs": [],
   "source": [
    "def olsq(x):\n",
    "    return (m*x+c)"
   ]
  },
  {
   "cell_type": "code",
   "execution_count": 7,
   "id": "dfbce7fc",
   "metadata": {},
   "outputs": [],
   "source": [
    "ypred =list(map(olsq,df[\"X\"]))"
   ]
  },
  {
   "cell_type": "code",
   "execution_count": 8,
   "id": "c2ceeb0f",
   "metadata": {},
   "outputs": [
    {
     "data": {
      "text/plain": [
       "[2.8, 3.2, 3.6, 4.0, 4.4]"
      ]
     },
     "execution_count": 8,
     "metadata": {},
     "output_type": "execute_result"
    }
   ],
   "source": [
    "ypred"
   ]
  },
  {
   "cell_type": "code",
   "execution_count": 9,
   "id": "4ef407b1",
   "metadata": {},
   "outputs": [],
   "source": [
    "df[\"ypred\"]=ypred"
   ]
  },
  {
   "cell_type": "code",
   "execution_count": 10,
   "id": "75d191e0",
   "metadata": {},
   "outputs": [
    {
     "data": {
      "text/html": [
       "<div>\n",
       "<style scoped>\n",
       "    .dataframe tbody tr th:only-of-type {\n",
       "        vertical-align: middle;\n",
       "    }\n",
       "\n",
       "    .dataframe tbody tr th {\n",
       "        vertical-align: top;\n",
       "    }\n",
       "\n",
       "    .dataframe thead th {\n",
       "        text-align: right;\n",
       "    }\n",
       "</style>\n",
       "<table border=\"1\" class=\"dataframe\">\n",
       "  <thead>\n",
       "    <tr style=\"text-align: right;\">\n",
       "      <th></th>\n",
       "      <th>X</th>\n",
       "      <th>Y</th>\n",
       "      <th>ypred</th>\n",
       "    </tr>\n",
       "  </thead>\n",
       "  <tbody>\n",
       "    <tr>\n",
       "      <th>0</th>\n",
       "      <td>1</td>\n",
       "      <td>3</td>\n",
       "      <td>2.8</td>\n",
       "    </tr>\n",
       "    <tr>\n",
       "      <th>1</th>\n",
       "      <td>2</td>\n",
       "      <td>4</td>\n",
       "      <td>3.2</td>\n",
       "    </tr>\n",
       "    <tr>\n",
       "      <th>2</th>\n",
       "      <td>3</td>\n",
       "      <td>2</td>\n",
       "      <td>3.6</td>\n",
       "    </tr>\n",
       "    <tr>\n",
       "      <th>3</th>\n",
       "      <td>4</td>\n",
       "      <td>4</td>\n",
       "      <td>4.0</td>\n",
       "    </tr>\n",
       "    <tr>\n",
       "      <th>4</th>\n",
       "      <td>5</td>\n",
       "      <td>5</td>\n",
       "      <td>4.4</td>\n",
       "    </tr>\n",
       "  </tbody>\n",
       "</table>\n",
       "</div>"
      ],
      "text/plain": [
       "   X  Y  ypred\n",
       "0  1  3    2.8\n",
       "1  2  4    3.2\n",
       "2  3  2    3.6\n",
       "3  4  4    4.0\n",
       "4  5  5    4.4"
      ]
     },
     "execution_count": 10,
     "metadata": {},
     "output_type": "execute_result"
    }
   ],
   "source": [
    "df"
   ]
  },
  {
   "cell_type": "code",
   "execution_count": 21,
   "id": "1f39b488",
   "metadata": {},
   "outputs": [
    {
     "data": {
      "text/plain": [
       "[]"
      ]
     },
     "execution_count": 21,
     "metadata": {},
     "output_type": "execute_result"
    },
    {
     "data": {
      "image/png": "[encoded data removed]",
      "text/plain": [
       "<Figure size 640x480 with 1 Axes>"
      ]
     },
     "metadata": {},
     "output_type": "display_data"
    }
   ],
   "source": [
    "sns.scatterplot(data=df,x=\"X\",y=\"Y\")\n",
    "sns.lineplot(data=df,x=\"X\",y=\"ypred\")\n",
    "plt.plot()"
   ]
  },
  {
   "cell_type": "code",
   "execution_count": 13,
   "id": "03ebacad",
   "metadata": {},
   "outputs": [
    {
     "data": {
      "text/plain": [
       "0.6399999999999999"
      ]
     },
     "execution_count": 13,
     "metadata": {},
     "output_type": "execute_result"
    }
   ],
   "source": [
    "mae=sum(abs(df[\"Y\"]-df[\"ypred\"])/len(df[\"Y\"]))\n",
    "mae"
   ]
  },
  {
   "cell_type": "code",
   "execution_count": 14,
   "id": "0be14ad4",
   "metadata": {},
   "outputs": [
    {
     "data": {
      "text/plain": [
       "0.7200000000000001"
      ]
     },
     "execution_count": 14,
     "metadata": {},
     "output_type": "execute_result"
    }
   ],
   "source": [
    "mse=sum(abs(df[\"Y\"]-df[\"ypred\"])**2/len(df[\"Y\"]))\n",
    "mse"
   ]
  },
  {
   "cell_type": "code",
   "execution_count": 15,
   "id": "c53d596b",
   "metadata": {},
   "outputs": [
    {
     "data": {
      "text/plain": [
       "0.8485281374238571"
      ]
     },
     "execution_count": 15,
     "metadata": {},
     "output_type": "execute_result"
    }
   ],
   "source": [
    "rmse= np.sqrt(mse)\n",
    "rmse"
   ]
  },
  {
   "cell_type": "code",
   "execution_count": 17,
   "id": "0ca3b48f",
   "metadata": {},
   "outputs": [
    {
     "data": {
      "text/plain": [
       "0.3076923076923078"
      ]
     },
     "execution_count": 17,
     "metadata": {},
     "output_type": "execute_result"
    }
   ],
   "source": [
    "r2= sum((df[\"ypred\"]-ymean)**2)/sum((df[\"Y\"]-ymean)**2)\n",
    "r2"
   ]
  },
  {
   "cell_type": "code",
   "execution_count": null,
   "id": "b3061307",
   "metadata": {},
   "outputs": [],
   "source": []
  }
 ],
 "metadata": {
  "kernelspec": {
   "display_name": "Python 3 (ipykernel)",
   "language": "python",
   "name": "python3"
  },
  "language_info": {
   "codemirror_mode": {
    "name": "ipython",
    "version": 3
   },
   "file_extension": ".py",
   "mimetype": "text/x-python",
   "name": "python",
   "nbconvert_exporter": "python",
   "pygments_lexer": "ipython3",
   "version": "3.9.13"
  }
 },
 "nbformat": 4,
 "nbformat_minor": 5
}
